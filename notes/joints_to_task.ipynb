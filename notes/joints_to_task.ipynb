{
 "cells": [
  {
   "cell_type": "code",
   "execution_count": 1,
   "metadata": {},
   "outputs": [],
   "source": [
    "import numpy as np\n",
    "import logging \n",
    "import sys\n",
    "import os\n",
    "import h5py\n",
    "import math\n",
    "from math import radians, cos, sin\n",
    "from scipy.cluster.vq import whiten, kmeans, kmeans2\n",
    "\n",
    "logger = logging.getLogger(__name__)\n",
    "disp=False"
   ]
  },
  {
   "cell_type": "code",
   "execution_count": 2,
   "metadata": {},
   "outputs": [],
   "source": [
    "### read the data we have collected\n",
    "with h5py.File('../scripts/{}.h5'.format('joints_data'), 'r+') as f:\n",
    "    pos_grp = f['workspace_coords']\n",
    "    q       = pos_grp['joint_positions'].value\n",
    "    qdot    = pos_grp['joint_velocities'].value\n",
    "    targ_grp = f['workspace_targets']\n",
    "    qstar   = targ_grp['joint_positions'].value\n",
    "    qdot_star= targ_grp['joint_velocities'].value"
   ]
  },
  {
   "cell_type": "code",
   "execution_count": 3,
   "metadata": {},
   "outputs": [],
   "source": [
    "q1 = q[0:7,:]\n",
    "q2 = q[7:14,:]\n",
    "q1dot = qdot[0:7,:]\n",
    "q2dot = qdot[7:14,:]\n",
    "pts = dict(pts1=dict(q=q1, qdot=q1dot),pts2=dict(q=q2, qdot=q2dot),targets=dict(q=qstar, qdot=qdot_star),)"
   ]
  },
  {
   "cell_type": "code",
   "execution_count": 4,
   "metadata": {},
   "outputs": [],
   "source": [
    "np.set_printoptions(suppress=True)\n",
    "\n",
    "if disp:\n",
    "    print(pts)"
   ]
  },
  {
   "cell_type": "markdown",
   "metadata": {},
   "source": [
    "### convert from joint space to cartesian coordinates in the end effector/tool frame"
   ]
  },
  {
   "cell_type": "code",
   "execution_count": 5,
   "metadata": {},
   "outputs": [],
   "source": [
    "#### defining D-H constants\n",
    "\"\"\"lc, lf are in millimeters\"\"\"\n",
    "lc, lf = 300, 350\n",
    "\n",
    "pts_cartesian = {\n",
    "    'pts1': {\n",
    "        'x': None, 'y': None, 'z': None,\n",
    "        'xdot': None, 'ydot': None, 'zdot': None,\n",
    "    },\n",
    "    'pts2': {\n",
    "        'x': None, 'y': None, 'z': None,\n",
    "        'xdot': None, 'ydot': None, 'zdot': None,\n",
    "    },\n",
    "    'targets': {\n",
    "        'x': None, 'y': None, 'z': None,\n",
    "        'xdot': None, 'ydot': None, 'zdot': None,\n",
    "    }\n",
    "}"
   ]
  },
  {
   "cell_type": "code",
   "execution_count": 6,
   "metadata": {},
   "outputs": [
    {
     "data": {
      "text/plain": [
       "dict_keys(['qdot', 'q'])"
      ]
     },
     "execution_count": 6,
     "metadata": {},
     "output_type": "execute_result"
    }
   ],
   "source": [
    "pts['pts1'].keys()"
   ]
  },
  {
   "cell_type": "code",
   "execution_count": 7,
   "metadata": {},
   "outputs": [],
   "source": [
    "way_pts = [k for k, v in pts.items()]\n",
    "for way_pt in way_pts:\n",
    "    # get the positional points\n",
    "    px_l = [cos(x) for x in pts[way_pt]['q'][:,0]]\n",
    "    px_r1 = [lc*cos(x) for x in  pts[way_pt]['q'][:,1]]\n",
    "    px_r2 = [lf*cos(x+y) for x,y in  zip(pts[way_pt]['q'][:,1], pts[way_pt]['q'][:,2])]\n",
    "    px_r = np.array(px_r1) - px_r2\n",
    "    pts_cartesian[way_pt]['x'] = np.array(px_l) * np.array(px_r)\n",
    "\n",
    "    py_l = [sin(x) for x in pts[way_pt]['q'][:,0]]\n",
    "    pts_cartesian[way_pt]['y'] = np.array(py_l) * np.array(px_r)\n",
    "\n",
    "    pz_l = [-lc * sin(x) for x in pts[way_pt]['q'][:,1]]\n",
    "    pz_r = [lf * cos(x+y) for x, y in zip(pts[way_pt]['q'][:,1], pts[way_pt]['q'][:,2])]\n",
    "    pts_cartesian[way_pt]['z'] = np.array(pz_l) - np.array(pz_r)\n",
    "    \n",
    "    # get the velocities\n",
    "    px_l = [cos(x) for x in pts[way_pt]['qdot'][:,0]]\n",
    "    px_r1 = [lc*cos(x) for x in  pts[way_pt]['qdot'][:,1]]\n",
    "    px_r2 = [lf*cos(x+y) for x,y in  zip(pts[way_pt]['qdot'][:,1], pts[way_pt]['qdot'][:,2])]\n",
    "    px_r = np.array(px_r1) - px_r2\n",
    "    pts_cartesian[way_pt]['xdot'] = np.array(px_l) * np.array(px_r)\n",
    "\n",
    "    py_l = [sin(x) for x in pts[way_pt]['qdot'][:,0]]\n",
    "    pts_cartesian[way_pt]['ydot'] = np.array(py_l) * np.array(px_r)\n",
    "\n",
    "    pz_l = [-lc * sin(x) for x in pts[way_pt]['qdot'][:,1]]\n",
    "    pz_r = [lf * cos(x+y) for x, y in zip(pts[way_pt]['qdot'][:,1], pts[way_pt]['qdot'][:,2])]\n",
    "    pts_cartesian[way_pt]['zdot'] = np.array(pz_l) - np.array(pz_r)\n",
    "    \n",
    "# print(pts_cartesian)"
   ]
  },
  {
   "cell_type": "markdown",
   "metadata": {},
   "source": [
    "#### gather all the cartesian points and velocities\n",
    "+ data is thus arranged:\n",
    "  - data = [\n",
    "             \\zeta^0, \\zeta^1, \\zeta^\\star; \n",
    "             \\dot{\\zeta^0}, \\dot{\\zeta^1}, \\dot{\\zeta^\\star}\n",
    "            ]\n",
    "  - where \\zeta \\in R^n, n being the dimension in cartesian coordinates of the \n",
    "  - note that our data is in 2D for now, i.e. x and y axes in Cartesian space\n",
    "  \n",
    "  In other words, data is thus shaped:\n",
    "                  \n",
    "  data = \n",
    "                  time t1                                   time t2                          time t3                               time t4\n",
    "         [x1,  x2,  x3,  x4,  x5,  x6,  x7 | x1,  x2,  x3,  x4,  x5,  x6,  x7 | x1,  x2,  x3,  x4,  x5,  x6,  x7 | x1,  x2,  x3,  x4,  x5,  x6,  x7 ]\n",
    "         [y1,  y2,  y3,  y4,  y5,  y6,  y7 | y1,  y2,  y3,  y4,  y5,  y6,  y7 | y1,  y2,  y3,  y4,  y5,  y6,  y7 | y1,  y2,  y3,  y4,  y5,  y6,  y7 ]\n",
    "         [x1d, x2d, x3d, x4d, x5d, x6d, x7d| x1d, x2d, x3d, x4d, x5d, x6d, x7d| x1d, x2d, x3d, x4d, x5d, x6d, x7d| x1d, x2d, x3d, x4d, x5d, x6d, x7d]\n",
    "         [y1d, y2d, y3d, y4d, y5d, y6d, y7d| y1d, y2d, y3d, y4d, y5d, y6d, y7d| y1d, y2d, y3d, y4d, y5d, y6d, y7d| y1d, y2d, y3d, y4d, y5d, y6d, y7d]"
   ]
  },
  {
   "cell_type": "code",
   "execution_count": 8,
   "metadata": {},
   "outputs": [],
   "source": [
    "x = np.hstack([pts_cartesian['pts1']['x'], pts_cartesian['pts2']['x'], pts_cartesian['targets']['x']])\n",
    "y = np.hstack([pts_cartesian['pts1']['y'], pts_cartesian['pts2']['y'], pts_cartesian['targets']['y']])\n",
    "z = np.hstack([pts_cartesian['pts1']['z'], pts_cartesian['pts2']['z'], pts_cartesian['targets']['z']])\n",
    "\n",
    "# xd = np.hstack([pts_cartesian['pts1']['xdot'], pts_cartesian['pts2']['xdot'], pts_cartesian['targets']['xdot']])\n",
    "# yd = np.hstack([pts_cartesian['pts1']['ydot'], pts_cartesian['pts2']['ydot'], pts_cartesian['targets']['ydot']])\n",
    "# zd = np.hstack([pts_cartesian['pts1']['zdot'], pts_cartesian['pts2']['zdot'], pts_cartesian['targets']['zdot']])\n",
    "xd,yd,zd = [[] for _ in range(3)]\n",
    "for i in range(len(x)-1):\n",
    "    xd.append((x[i+1]-x[i])/0.1)\n",
    "    yd.append((y[i+1]-y[i])/0.1)\n",
    "    zd.append((z[i+1]-z[i])/0.1)\n",
    "xd.append(0)\n",
    "yd.append(0)\n",
    "zd.append(0)"
   ]
  },
  {
   "cell_type": "code",
   "execution_count": 9,
   "metadata": {},
   "outputs": [],
   "source": [
    "# x.shape, y.shape, z.shape\n",
    "data = np.vstack([x,y,np.array(xd),np.array(yd)])\n",
    "#data = np.vstack([x,y,z])\n",
    "# print(data.shape)\n",
    "filename = '../scripts/{}.h5'.format('torobo_processed_data')\n",
    "os.remove(filename) if os.path.isfile(filename) else None\n",
    "# time.sleep(4)\n",
    "with h5py.File(filename, 'w') as f:\n",
    "    pos_grp = f.create_group('data')\n",
    "    pos_grp.create_dataset(\"data\", data=data, dtype=np.float32, compression=\"gzip\", compression_opts=9)"
   ]
  },
  {
   "cell_type": "code",
   "execution_count": 137,
   "metadata": {},
   "outputs": [],
   "source": []
  },
  {
   "cell_type": "markdown",
   "metadata": {},
   "source": [
    "d = data.shape[0]/2\n",
    "num_states = 4\n",
    "num_var, num_data = data.shape\n",
    "centers, labels = kmeans_init_data(data, num_states=num_states)\n",
    "mu = centers.T\n",
    "\n",
    "print('labels: ', labels)\n",
    "print('centers: ', centers)\n",
    "Priors = np.zeros((num_states))\n",
    "Sigma  = np.zeros((num_states, num_states, num_states))\n",
    "\n",
    "for i in range(num_states):\n",
    "    idtemp = np.nonzero(labels==i)\n",
    "    Priors[i] = len(idtemp[0])\n",
    "    print('Priors: ', Priors[i])\n",
    "    print('idtemp[0]: ', idtemp[0], 'labels[idtemp]: ', labels[idtemp])\n",
    "    if labels[idtemp].size == 0:\n",
    "        Sigma[:,:,i] = np.random.randn(num_states, num_states)\n",
    "    else:\n",
    "        Sigma[:,:,i] = np.cov(m=data[:, idtemp[0]])\n",
    "    print('data[:, idtemp[0]]: ', data[:, idtemp[0]].T)\n",
    "    print('Sigma[:,:,i]: \\n', Sigma[:,:,i])\n",
    "    print(1e-5 * np.diag(np.ones((num_var, 1))))\n",
    "    # avoid numerical stability\n",
    "    Sigma[:,:,i] = Sigma[:,:,i] + 1e-5 * np.diag(np.ones([num_var, 1]))\n",
    "\n",
    "Priors = np.divide(Priors, sum(Priors))"
   ]
  },
  {
   "cell_type": "code",
   "execution_count": null,
   "metadata": {},
   "outputs": [],
   "source": []
  }
 ],
 "metadata": {
  "kernelspec": {
   "display_name": "Python 3",
   "language": "python",
   "name": "python3"
  },
  "language_info": {
   "codemirror_mode": {
    "name": "ipython",
    "version": 3
   },
   "file_extension": ".py",
   "mimetype": "text/x-python",
   "name": "python",
   "nbconvert_exporter": "python",
   "pygments_lexer": "ipython3",
   "version": "3.5.5"
  }
 },
 "nbformat": 4,
 "nbformat_minor": 2
}
