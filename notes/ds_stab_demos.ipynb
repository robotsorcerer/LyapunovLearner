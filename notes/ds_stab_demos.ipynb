{
 "cells": [
  {
   "cell_type": "code",
   "execution_count": 5,
   "id": "2b26029b-5221-4cd3-924d-1f5992618859",
   "metadata": {},
   "outputs": [],
   "source": [
    "import sys\n",
    "\n",
    "import argparse\n",
    "import logging\n",
    "from os.path import join\n",
    "logger = logging.getLogger(__name__)\n",
    "import numpy as np\n",
    "import scipy.io as sio\n",
    "import matplotlib.pyplot as plt\n",
    "sys.path.append(\"../scripts\")\n",
    "\n",
    "from gmm.gmm import GMM\n",
    "from cost import Cost\n",
    "from config import Vxf0, options, opt_exec\n",
    "from utils.utils import guess_init_lyap\n",
    "from stabilizer import dsStabilizer"
   ]
  },
  {
   "cell_type": "code",
   "execution_count": 6,
   "id": "6bebd615-5995-490e-b1a8-67141d8518e4",
   "metadata": {},
   "outputs": [],
   "source": [
    "def load_saved_mat_file(x, **kwargs):\n",
    "    matFile = sio.loadmat(x)\n",
    "\n",
    "    data = matFile['Data']\n",
    "    demoIdx = matFile['demoIndices']\n",
    "\n",
    "    if ('Priors_EM' or 'Mu_EM' or 'Sigma_EM') in kwargs:\n",
    "        Priors_EM, Mu_EM, Sigma_EM = matFile['Priors_EM'], matFile['Mu_EM'], matFile['Sigma_EM']\n",
    "        return data, demoIdx, Priors_EM, Mu_EM, Sigma_EM\n",
    "    else:\n",
    "        return data, demoIdx\n"
   ]
  },
  {
   "cell_type": "code",
   "execution_count": 7,
   "id": "975f4606-6c8c-48f6-80a4-b2242d2134c4",
   "metadata": {},
   "outputs": [],
   "source": [
    "modelNames = ['w.mat', 'Sshape.mat']  # Two example models provided by Khansari\n",
    "modelNumber = 0  # could be zero or one depending on the experiment the user is running\n",
    "\n",
    "data, demoIdx = load_saved_mat_file(join('../example_models/', modelNames[modelNumber]))\n",
    "\n",
    "Vxf0['d'] = int(data.shape[0]/2)\n",
    "Vxf0.update(Vxf0)\n",
    "\n",
    "Vxf0 = guess_init_lyap(data, Vxf0, options['int_lyap_random'])\n",
    "cost = Cost()"
   ]
  },
  {
   "cell_type": "code",
   "execution_count": 9,
   "id": "5b4944ea-f72a-4504-8d67-d1f6cd55a5d1",
   "metadata": {},
   "outputs": [
    {
     "data": {
      "text/plain": [
       "(4, 750)"
      ]
     },
     "execution_count": 9,
     "metadata": {},
     "output_type": "execute_result"
    }
   ],
   "source": [
    "while cost.success:\n",
    "    print('Optimizing the lyapunov function')\n",
    "    Vxf, J = cost.learnEnergy(Vxf0, data, options)\n",
    "    old_l = Vxf0['L']\n",
    "    Vxf0['L'] += 1\n",
    "    print('Constraints violated. increasing the size of L from {} --> {}'.format(old_l, Vxf0['L']))\n",
    "    if cost.success:\n",
    "        print('optimization succeeded without violating constraints')\n",
    "        break"
   ]
  },
  {
   "cell_type": "code",
   "execution_count": 10,
   "id": "c8c14bad-9854-4f09-803d-12fb3fd794de",
   "metadata": {},
   "outputs": [
    {
     "data": {
      "text/plain": [
       "array([[  1, 251, 501, 751]], dtype=uint16)"
      ]
     },
     "execution_count": 10,
     "metadata": {},
     "output_type": "execute_result"
    }
   ],
   "source": [
    "demoIdx"
   ]
  },
  {
   "cell_type": "code",
   "execution_count": null,
   "id": "7e1efa4f-9839-4e22-93a9-cb19f1395673",
   "metadata": {},
   "outputs": [],
   "source": []
  }
 ],
 "metadata": {
  "kernelspec": {
   "display_name": "Python 3",
   "language": "python",
   "name": "python3"
  },
  "language_info": {
   "codemirror_mode": {
    "name": "ipython",
    "version": 3
   },
   "file_extension": ".py",
   "mimetype": "text/x-python",
   "name": "python",
   "nbconvert_exporter": "python",
   "pygments_lexer": "ipython3",
   "version": "3.7.10"
  }
 },
 "nbformat": 4,
 "nbformat_minor": 5
}
