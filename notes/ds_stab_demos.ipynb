{
 "cells": [
  {
   "cell_type": "code",
   "execution_count": 1,
   "id": "2b26029b-5221-4cd3-924d-1f5992618859",
   "metadata": {},
   "outputs": [],
   "source": [
    "import sys\n",
    "\n",
    "import argparse\n",
    "import logging\n",
    "from os.path import join\n",
    "logger = logging.getLogger(__name__)\n",
    "import numpy as np\n",
    "import scipy.io as sio\n",
    "import matplotlib.pyplot as plt\n",
    "sys.path.append(\"../scripts\")\n",
    "\n",
    "from gmm.gmm import GMM\n",
    "from cost import Cost\n",
    "from config import Vxf0, options, opt_exec\n",
    "from utils.utils import guess_init_lyap\n",
    "from stabilizer import dsStabilizer"
   ]
  },
  {
   "cell_type": "code",
   "execution_count": 2,
   "id": "f04ade15-6455-4f13-9302-19fcd0a28f68",
   "metadata": {},
   "outputs": [],
   "source": [
    "def load_saved_mat_file(x, **kwargs):\n",
    "    matFile = sio.loadmat(x)\n",
    "\n",
    "    data = matFile['Data']\n",
    "    demoIdx = matFile['demoIndices']\n",
    "\n",
    "    if ('Priors_EM' or 'Mu_EM' or 'Sigma_EM') in kwargs:\n",
    "        Priors_EM, Mu_EM, Sigma_EM = matFile['Priors_EM'], matFile['Mu_EM'], matFile['Sigma_EM']\n",
    "        return data, demoIdx, Priors_EM, Mu_EM, Sigma_EM\n",
    "    else:\n",
    "        return data, demoIdx\n",
    "\n",
    "\n",
    "modelNames = ['w.mat', 'Sshape.mat']  # Two example models provided by Khansari\n",
    "modelNumber = 0  # could be zero or one depending on the experiment the user is running\n",
    "\n",
    "data, demoIdx = load_saved_mat_file(join('../example_models/', modelNames[modelNumber]))\n",
    "\n",
    "Vxf0['d'] = int(data.shape[0]/2)\n",
    "Vxf0.update(Vxf0)\n",
    "\n",
    "Vxf0 = guess_init_lyap(data, Vxf0, options['int_lyap_random'])\n",
    "cost = Cost(nDemo = 1, success=True, Nfeval = 0, verbose=False)"
   ]
  },
  {
   "cell_type": "code",
   "execution_count": 3,
   "id": "5b4944ea-f72a-4504-8d67-d1f6cd55a5d1",
   "metadata": {
    "scrolled": true,
    "tags": []
   },
   "outputs": [
    {
     "name": "stdout",
     "output_type": "stream",
     "text": [
      "Optimizing the lyapunov function\n"
     ]
    },
    {
     "name": "stderr",
     "output_type": "stream",
     "text": [
      "/home/lex/miniconda3/envs/37/lib/python3.7/site-packages/scipy/optimize/_hessian_update_strategy.py:186: UserWarning: delta_grad == 0.0. Check if the approximated function is linear. If the function is linear better results can be obtained by defining the Hessian as zero instead of using quasi-Newton approximations.\n",
      "  'approximations.', UserWarning)\n"
     ]
    },
    {
     "name": "stdout",
     "output_type": "stream",
     "text": [
      "Constraints violated. increasing the size of L from 2 --> 3\n",
      "optimization succeeded without violating constraints\n"
     ]
    }
   ],
   "source": [
    "while cost.success:\n",
    "    print('Optimizing the lyapunov function')\n",
    "    Vxf, J = cost.learnEnergy(Vxf0, data, options)\n",
    "    old_l = Vxf0['L']\n",
    "    Vxf0['L'] += 1\n",
    "    print('Constraints violated. increasing the size of L from {} --> {}'.format(old_l, Vxf0['L']))\n",
    "    if cost.success:\n",
    "        print('optimization succeeded without violating constraints')\n",
    "        break"
   ]
  },
  {
   "cell_type": "code",
   "execution_count": 12,
   "id": "c8c14bad-9854-4f09-803d-12fb3fd794de",
   "metadata": {},
   "outputs": [
    {
     "data": {
      "text/plain": [
       "(5, 3)"
      ]
     },
     "execution_count": 12,
     "metadata": {},
     "output_type": "execute_result"
    }
   ],
   "source": [
    "X = np.random.randn(5, 3)\n",
    "X = X.reshape(5, -1)\n",
    "X.shape"
   ]
  },
  {
   "cell_type": "code",
   "execution_count": null,
   "id": "7e1efa4f-9839-4e22-93a9-cb19f1395673",
   "metadata": {},
   "outputs": [],
   "source": []
  }
 ],
 "metadata": {
  "kernelspec": {
   "display_name": "Python 3",
   "language": "python",
   "name": "python3"
  },
  "language_info": {
   "codemirror_mode": {
    "name": "ipython",
    "version": 3
   },
   "file_extension": ".py",
   "mimetype": "text/x-python",
   "name": "python",
   "nbconvert_exporter": "python",
   "pygments_lexer": "ipython3",
   "version": "3.7.10"
  }
 },
 "nbformat": 4,
 "nbformat_minor": 5
}
